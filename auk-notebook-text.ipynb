{
 "cells": [
  {
   "cell_type": "markdown",
   "metadata": {},
   "source": [
    "\n",
    "<img src=\"https://raw.githubusercontent.com/archivesunleashed/archivesunleashed.org/master/themes/hugo-material-docs/static/images/logo-square.png\" height=\"100px\" width=\"100px\">\n",
    "\n",
    "\n",
    "# Welcome to the Text Analysis Notebook\n",
    "\n",
    "Welcome to the Archives Unleashed Text Analysis Jupyter Notebook. This demonstration takes the full text derivatives from the Cloud and uses Python to analyze the derivatives for your collection.\n",
    "\n",
    "Please feel free to create an [issue](https://github.com/archivesunleashed/auk/issues) to let us know about any bugs you encounter or improvements you would like to see.\n",
    "\n",
    "If you have Python experience, please feel free to change the provided code to suit your own needs.\n",
    "\n",
    "We recommend that you use `File > Make a Copy` first before changing the code in the repository. That way, you can always return to the basic visualizations we have offered here. Of course, you can also just re-download the Jupyter Notebook file from your Archives Unleashed Cloud account.\n",
    "\n",
    "### How Jupyter Notebooks Work\n",
    "\n",
    "If you have no previous experience with Jupyter Notebooks, the most important thing to understand is that that `<Shift> + <Enter/Return>` will run the Python code inside a cell and output it to below the cell.\n",
    "    \n",
    "The cells that cover the required inputs, marked \"Setup\", need to be run before the rest of the notebook will work. These cells will import all the libraries and set basic variables (e.g. where your derivative files are located) for the notebook. After that, everything else should be able to run on its own.\n",
    "\n",
    "If you just want to see all results for your collection, use `Cell > Run All`.\n"
   ]
  },
  {
   "cell_type": "markdown",
   "metadata": {},
   "source": [
    "# Setup"
   ]
  },
  {
   "cell_type": "markdown",
   "metadata": {},
   "source": [
    "## The Collection ID\n",
    "\n",
    "This variable is the most important, and the only variable you need to change to see a complete set of visualizations for your [Archives Unleashed Cloud derivatives](https://cloud.archivesunleashed.org/derivatives)."
   ]
  },
  {
   "cell_type": "code",
   "execution_count": 15,
   "metadata": {
    "collapsed": true
   },
   "outputs": [],
   "source": [
    "COLLECTION_ID = '4867'  # Change to switch collections.\n",
    "AUK_PATH = 'data/'  # Change value to full path to your data, including trailing slash."
   ]
  },
  {
   "cell_type": "markdown",
   "metadata": {},
   "source": [
    "This section imports the AuNotebook custom class that includes some methods for accessing derivatives and producing visualizations. Also, some libraries like [numpy](http://www.numpy.org/), and [nltk](https://www.nltk.org/) will be imported so you can do additional analysis."
   ]
  },
  {
   "cell_type": "code",
   "execution_count": 16,
   "metadata": {
    "collapsed": true
   },
   "outputs": [],
   "source": [
    "# Required packages.\n",
    "\n",
    "from au_notebook import au_notebook\n",
    "from collections import Counter\n",
    "import matplotlib.pyplot as plt\n",
    "from nltk.tokenize import word_tokenize, sent_tokenize\n",
    "from nltk.draw.dispersion import dispersion_plot as dp\n",
    "from nltk.classify import NaiveBayesClassifier\n",
    "from nltk.corpus import subjectivity\n",
    "from nltk.sentiment import SentimentAnalyzer\n",
    "from nltk.sentiment.util import *\n",
    "from nltk.sentiment.vader import SentimentIntensityAnalyzer\n",
    "import numpy as np"
   ]
  },
  {
   "cell_type": "markdown",
   "metadata": {},
   "source": [
    "## User Configuration\n",
    "\n",
    "The following cell sets up the notebook functions under the name `nb`. If you want to use one of the functions in the class, you can use `nb.function_name()`. For example, `nb.get_text()` returns the data from the text derivative as a single text string. Use `nb.__dict__` to see the available settings and functions and `help(nb.function_name)` to see the documentation for a particular function. \n",
    "\n",
    "While setting up the functions, you may also want to change some of the default settings.\n",
    "\n",
    "Take a look here: are there any domains you are not interested in? How many words would you like to be shown? Do you want to filter out 404 results? Do you want to sample the data? Read the choices below carefully."
   ]
  },
  {
   "cell_type": "code",
   "execution_count": 17,
   "metadata": {
    "collapsed": true
   },
   "outputs": [],
   "source": [
    "nb = au_notebook(COLLECTION_ID, AUK_PATH,\n",
    "\n",
    "# Maximum number of words to show in output.\n",
    "# Jupyter will create an output error if the number is too high.\n",
    "\n",
    "TOP_COUNT = 30,\n",
    "\n",
    "# Domain suffixes to check non-U.S. domains so that (e.g.) www.google.co.uk will become \"google\".\n",
    "\n",
    "STOP_DOMAINS = [\"co\", \"org\", \"net\", \"edu\"], # Domain suffixes to remove.\n",
    "\n",
    "# Minimum number of characters for a word to be included in a corpus.\n",
    "\n",
    "MINIMUM_WORD_LENGTH = 3, # Eliminates \"it\", \"I\", \"be\" etc.\n",
    "\n",
    "# List of substrings to filter a text line, if desired.\n",
    "\n",
    "LINE_FILTER = ['404 Not Found'],\n",
    "\n",
    "# How many lines of text to use.\n",
    "\n",
    "RESULTS_LIMIT = 2500,\n",
    "\n",
    "# If you want to start at a different line, you can increase this.\n",
    "# If RESULTS_START is great than RESULTS_LIMIT you will get no results.\n",
    "\n",
    "RESULTS_START = 0,\n",
    "\n",
    "# If you have a large file but want to sample the file more broadly.\n",
    "# You can increase this value skip to every Nth line.\n",
    "\n",
    "RESULTS_STEP = 5,\n",
    "\n",
    "# Characters to show per text file in output.\n",
    "# Larger numbers will result in more text showing in output.\n",
    "\n",
    "MAX_CHARACTERS = 75,\n",
    "\n",
    "# The years to include in the analysis.\n",
    "# If empty, you will get all available years.\n",
    "\n",
    "FILTERED_YEARS = [], # E.g. ['2015', '2016', '2019'].\n",
    "\n",
    "# The domains to include in the analysis.\n",
    "# If empty, you will get all available domains.\n",
    "\n",
    "FILTERED_DOMAINS = [], # E.g [\"google\", \"apple\", \"facebook\"].\n",
    "\n",
    "# Use nltk stopwords?\n",
    "\n",
    "USE_NLTK = True,\n",
    "\n",
    "# List of words not to include in a corpus for text analysis. Added to nltk stop words if USE_NLTK is True.\n",
    "\n",
    "STOP_WORDS_USER = {'north', 'south'},)"
   ]
  },
  {
   "cell_type": "markdown",
   "metadata": {
    "tags": [
     "remove_cell"
    ]
   },
   "source": [
    "# Text Analysis\n",
    "\n",
    "The following set of functions use the [Natural Language Toolkit](https://www.nltk.org) Python library to identify the most frequently used words in the collection, as well as facilitate breaking it down by name or domain. "
   ]
  },
  {
   "cell_type": "markdown",
   "metadata": {},
   "source": [
    "### Text by Year\n",
    "\n",
    "Change the variables in the following cell to manipulate the text analysis. For example, you may want to do your analysis by year, or you may be interested in analyzing text by domain (or both). You may also want to see more results than the default that we provide.\n"
   ]
  },
  {
   "cell_type": "code",
   "execution_count": 18,
   "metadata": {
    "collapsed": true
   },
   "outputs": [],
   "source": [
    "TEXT_METHOD = 'year' # Choose \"year\", \"domain\", or \"all\".\n",
    "TEXT_INTERNATIONAL = True # Change to False if you want only UTF-8 characters.\n",
    "TEXT_OUTPUT_SIZE = 10 # Change to increase or decrease the number of results shown.\n",
    "TEXT_FIGURE_SIZE = [10, 4] # Change the width and height of your graph plot ([wdth, hgt])."
   ]
  },
  {
   "cell_type": "code",
   "execution_count": 19,
   "metadata": {
    "collapsed": false
   },
   "outputs": [
    {
     "ename": "StopIteration",
     "evalue": "",
     "output_type": "error",
     "traceback": [
      "\u001b[0;31m---------------------------------------------------------------------------\u001b[0m",
      "\u001b[0;31mStopIteration\u001b[0m                             Traceback (most recent call last)",
      "\u001b[0;32m<ipython-input-19-747248251276>\u001b[0m in \u001b[0;36m<module>\u001b[0;34m()\u001b[0m\n\u001b[1;32m      1\u001b[0m \u001b[0;31m# Get the set of available years in the collection.\u001b[0m\u001b[0;34m\u001b[0m\u001b[0;34m\u001b[0m\u001b[0m\n\u001b[1;32m      2\u001b[0m \u001b[0;34m\u001b[0m\u001b[0m\n\u001b[0;32m----> 3\u001b[0;31m \u001b[0myear_range\u001b[0m \u001b[0;34m=\u001b[0m \u001b[0mset\u001b[0m\u001b[0;34m(\u001b[0m\u001b[0;34m[\u001b[0m\u001b[0mx\u001b[0m\u001b[0;34m[\u001b[0m\u001b[0;36m0\u001b[0m\u001b[0;34m]\u001b[0m \u001b[0;32mfor\u001b[0m \u001b[0mx\u001b[0m \u001b[0;32min\u001b[0m \u001b[0mnb\u001b[0m\u001b[0;34m.\u001b[0m\u001b[0mget_text\u001b[0m\u001b[0;34m(\u001b[0m\u001b[0mTEXT_METHOD\u001b[0m\u001b[0;34m)\u001b[0m\u001b[0;34m]\u001b[0m\u001b[0;34m)\u001b[0m\u001b[0;34m\u001b[0m\u001b[0m\n\u001b[0m\u001b[1;32m      4\u001b[0m \u001b[0mprint\u001b[0m\u001b[0;34m(\u001b[0m\u001b[0myear_range\u001b[0m\u001b[0;34m)\u001b[0m\u001b[0;34m\u001b[0m\u001b[0m\n",
      "\u001b[0;32m/Users/ianmilligan1/anaconda/lib/python3.5/site-packages/au_notebook.py\u001b[0m in \u001b[0;36mget_text\u001b[0;34m(self, by)\u001b[0m\n\u001b[1;32m    176\u001b[0m                             \u001b[0mtext\u001b[0m\u001b[0;34m.\u001b[0m\u001b[0mappend\u001b[0m\u001b[0;34m(\u001b[0m\u001b[0msplit_line\u001b[0m\u001b[0;34m[\u001b[0m\u001b[0;36m3\u001b[0m\u001b[0;34m]\u001b[0m\u001b[0;34m)\u001b[0m\u001b[0;34m\u001b[0m\u001b[0m\n\u001b[1;32m    177\u001b[0m                 \u001b[0;32melse\u001b[0m\u001b[0;34m:\u001b[0m\u001b[0;34m\u001b[0m\u001b[0m\n\u001b[0;32m--> 178\u001b[0;31m                     \u001b[0mnext\u001b[0m\u001b[0;34m(\u001b[0m\u001b[0mfin\u001b[0m\u001b[0;34m)\u001b[0m\u001b[0;34m\u001b[0m\u001b[0m\n\u001b[0m\u001b[1;32m    179\u001b[0m         \u001b[0;32mreturn\u001b[0m \u001b[0mtext\u001b[0m\u001b[0;34m\u001b[0m\u001b[0m\n\u001b[1;32m    180\u001b[0m \u001b[0;34m\u001b[0m\u001b[0m\n",
      "\u001b[0;31mStopIteration\u001b[0m: "
     ]
    }
   ],
   "source": [
    "# Get the set of available years in the collection.\n",
    "\n",
    "year_range = set([x[0] for x in nb.get_text(TEXT_METHOD)])\n",
    "print(year_range)"
   ]
  },
  {
   "cell_type": "markdown",
   "metadata": {},
   "source": [
    "Now we can create separate lists with text files from individual years in this collection. You can add years (e.g. \"2019\") to `FILTERED_YEARS` in to limit your results."
   ]
  },
  {
   "cell_type": "code",
   "execution_count": 27,
   "metadata": {
    "collapsed": false
   },
   "outputs": [
    {
     "ename": "NameError",
     "evalue": "name 'year_range' is not defined",
     "output_type": "error",
     "traceback": [
      "\u001b[0;31m---------------------------------------------------------------------------\u001b[0m",
      "\u001b[0;31mNameError\u001b[0m                                 Traceback (most recent call last)",
      "\u001b[0;32m<ipython-input-27-48b2c0da6368>\u001b[0m in \u001b[0;36m<module>\u001b[0;34m()\u001b[0m\n\u001b[1;32m      1\u001b[0m \u001b[0;31m# Get and print the first n lines of text.\u001b[0m\u001b[0;34m\u001b[0m\u001b[0;34m\u001b[0m\u001b[0m\n\u001b[1;32m      2\u001b[0m \u001b[0;34m\u001b[0m\u001b[0m\n\u001b[0;32m----> 3\u001b[0;31m \u001b[0myear_filter\u001b[0m \u001b[0;34m=\u001b[0m \u001b[0mnb\u001b[0m\u001b[0;34m.\u001b[0m\u001b[0mfiltered_years\u001b[0m \u001b[0;32mif\u001b[0m \u001b[0mnb\u001b[0m\u001b[0;34m.\u001b[0m\u001b[0mfiltered_years\u001b[0m \u001b[0;32melse\u001b[0m \u001b[0myear_range\u001b[0m \u001b[0;31m# Add or remove years for filter.\u001b[0m\u001b[0;34m\u001b[0m\u001b[0m\n\u001b[0m\u001b[1;32m      4\u001b[0m \u001b[0myear_results\u001b[0m \u001b[0;34m=\u001b[0m \u001b[0;34m[\u001b[0m\u001b[0mt\u001b[0m\u001b[0;34m[\u001b[0m\u001b[0;36m1\u001b[0m\u001b[0;34m]\u001b[0m \u001b[0;32mfor\u001b[0m \u001b[0mt\u001b[0m \u001b[0;32min\u001b[0m \u001b[0mnb\u001b[0m\u001b[0;34m.\u001b[0m\u001b[0mget_text\u001b[0m\u001b[0;34m(\u001b[0m\u001b[0mTEXT_METHOD\u001b[0m\u001b[0;34m)\u001b[0m \u001b[0;32mif\u001b[0m \u001b[0mt\u001b[0m\u001b[0;34m[\u001b[0m\u001b[0;36m0\u001b[0m\u001b[0;34m]\u001b[0m \u001b[0;32min\u001b[0m \u001b[0mlist\u001b[0m\u001b[0;34m(\u001b[0m\u001b[0myear_filter\u001b[0m\u001b[0;34m)\u001b[0m\u001b[0;34m]\u001b[0m\u001b[0;34m\u001b[0m\u001b[0m\n\u001b[1;32m      5\u001b[0m \u001b[0;34m\u001b[0m\u001b[0m\n",
      "\u001b[0;31mNameError\u001b[0m: name 'year_range' is not defined"
     ]
    }
   ],
   "source": [
    "# Get and print the first n lines of text.\n",
    "\n",
    "year_filter = nb.filtered_years if nb.filtered_years else year_range # Add or remove years for filter.\n",
    "year_results = [t[1] for t in nb.get_text(TEXT_METHOD) if t[0] in list(year_filter)]\n",
    "     \n",
    "# Some of the text may be in an international font.\n",
    "\n",
    "for i in year_results[:TEXT_OUTPUT_SIZE]:\n",
    "    print (i[:nb.max_characters] if (TEXT_INTERNATIONAL) else i[:nb.max_characters])"
   ]
  },
  {
   "cell_type": "markdown",
   "metadata": {},
   "source": [
    "You may want to save the output so that you can explore the filtered text by year in a text editor (or a different program). The following command could produce a text file, using the year variable above, that's from a year such as 2014.\n",
    "\n",
    "To do so, run the following cell and you will write the results to a file named `filtered-by-year.txt` unless you change it below."
   ]
  },
  {
   "cell_type": "code",
   "execution_count": 7,
   "metadata": {
    "collapsed": true
   },
   "outputs": [],
   "source": [
    "nb.write_output('./filtered-by-year.txt',year_results)"
   ]
  },
  {
   "cell_type": "markdown",
   "metadata": {},
   "source": [
    "### Text by Domain"
   ]
  },
  {
   "cell_type": "code",
   "execution_count": 16,
   "metadata": {
    "collapsed": false
   },
   "outputs": [
    {
     "ename": "StopIteration",
     "evalue": "",
     "output_type": "error",
     "traceback": [
      "\u001b[0;31m---------------------------------------------------------------------------\u001b[0m",
      "\u001b[0;31mStopIteration\u001b[0m                             Traceback (most recent call last)",
      "\u001b[0;32m<ipython-input-16-46e673279d80>\u001b[0m in \u001b[0;36m<module>\u001b[0;34m()\u001b[0m\n\u001b[1;32m      1\u001b[0m \u001b[0;31m# Get the set of available domains in the collection.\u001b[0m\u001b[0;34m\u001b[0m\u001b[0;34m\u001b[0m\u001b[0m\n\u001b[1;32m      2\u001b[0m \u001b[0;34m\u001b[0m\u001b[0m\n\u001b[0;32m----> 3\u001b[0;31m \u001b[0mdomain_set\u001b[0m \u001b[0;34m=\u001b[0m \u001b[0mset\u001b[0m\u001b[0;34m(\u001b[0m\u001b[0;34m[\u001b[0m\u001b[0mx\u001b[0m\u001b[0;34m[\u001b[0m\u001b[0;36m0\u001b[0m\u001b[0;34m]\u001b[0m \u001b[0;32mfor\u001b[0m \u001b[0mx\u001b[0m \u001b[0;32min\u001b[0m \u001b[0mnb\u001b[0m\u001b[0;34m.\u001b[0m\u001b[0mget_text\u001b[0m\u001b[0;34m(\u001b[0m\u001b[0;34m\"domain\"\u001b[0m\u001b[0;34m)\u001b[0m\u001b[0;34m]\u001b[0m\u001b[0;34m)\u001b[0m\u001b[0;34m\u001b[0m\u001b[0m\n\u001b[0m\u001b[1;32m      4\u001b[0m \u001b[0mprint\u001b[0m\u001b[0;34m(\u001b[0m\u001b[0mdomain_set\u001b[0m\u001b[0;34m)\u001b[0m\u001b[0;34m\u001b[0m\u001b[0m\n",
      "\u001b[0;32m/Users/ianmilligan1/anaconda/lib/python3.5/site-packages/au_notebook.py\u001b[0m in \u001b[0;36mget_text\u001b[0;34m(self, by)\u001b[0m\n\u001b[1;32m    176\u001b[0m                             \u001b[0mtext\u001b[0m\u001b[0;34m.\u001b[0m\u001b[0mappend\u001b[0m\u001b[0;34m(\u001b[0m\u001b[0msplit_line\u001b[0m\u001b[0;34m[\u001b[0m\u001b[0;36m3\u001b[0m\u001b[0;34m]\u001b[0m\u001b[0;34m)\u001b[0m\u001b[0;34m\u001b[0m\u001b[0m\n\u001b[1;32m    177\u001b[0m                 \u001b[0;32melse\u001b[0m\u001b[0;34m:\u001b[0m\u001b[0;34m\u001b[0m\u001b[0m\n\u001b[0;32m--> 178\u001b[0;31m                     \u001b[0mnext\u001b[0m\u001b[0;34m(\u001b[0m\u001b[0mfin\u001b[0m\u001b[0;34m)\u001b[0m\u001b[0;34m\u001b[0m\u001b[0m\n\u001b[0m\u001b[1;32m    179\u001b[0m         \u001b[0;32mreturn\u001b[0m \u001b[0mtext\u001b[0m\u001b[0;34m\u001b[0m\u001b[0m\n\u001b[1;32m    180\u001b[0m \u001b[0;34m\u001b[0m\u001b[0m\n",
      "\u001b[0;31mStopIteration\u001b[0m: "
     ]
    }
   ],
   "source": [
    "# Get the set of available domains in the collection.\n",
    "\n",
    "domain_set = set([x[0] for x in nb.get_text(\"domain\")])\n",
    "print(domain_set)"
   ]
  },
  {
   "cell_type": "markdown",
   "metadata": {},
   "source": [
    "Change the variables in the following cell to restrict the text output to include only the text from the websites with those domain names."
   ]
  },
  {
   "cell_type": "code",
   "execution_count": 9,
   "metadata": {
    "collapsed": true
   },
   "outputs": [],
   "source": [
    "TEXT_SELECT_DOMAINS = [] # Restrict text extraction to these domains."
   ]
  },
  {
   "cell_type": "code",
   "execution_count": 10,
   "metadata": {
    "collapsed": false
   },
   "outputs": [
    {
     "name": "stdout",
     "output_type": "stream",
     "text": [
      "****Total files****:253\n",
      "\n",
      "****Sample results****: \n",
      "\n",
      "Naomi Yamamoto for North Vancouver-Lonsdale - MLAs | Today's BC Liberals BC \n",
      "\n",
      "Jane Thornthwaite for North Vancouver-Seymour - MLAs | Today's BC Liberals  \n",
      "\n",
      "Lesli Boldt on Twitter: \"Gov’t resistance to mediator suggests lack of will \n",
      "\n",
      "BCTF on Twitter: \"With funding $1000 below the national average, #bced stud \n",
      "\n",
      "Teacher newsmagazine  Close Window Print Page BC Teachers' Federation Home  \n",
      "\n",
      "CBC Vancouver - Granville & 49th fire broke out at... | Facebook Facebook l \n",
      "\n",
      "Laurie Throness for Chilliwack-Hope - MLAs | Today's BC Liberals BC Liberal \n",
      "\n",
      "BC Liberal Team for British Columbia - MLAs | Today's BC Liberals BC Libera \n",
      "\n",
      "The Tyee – Not What You Were Looking For About Advertise Follow Support RSS \n",
      "\n",
      "Teacher newsmagazine  Close Window Print Page BC Teachers' Federation Home  \n",
      "\n"
     ]
    }
   ],
   "source": [
    "# Extract only the given domain to a file and see how many results there are.\n",
    "\n",
    "domain_set = nb.filtered_domains if nb.filtered_domains else domain_set\n",
    "domain_set = TEXT_SELECT_DOMAINS if TEXT_SELECT_DOMAINS else domain_set\n",
    "domain_results = [t[1] for t in nb.get_text(\"domain\") if t[0] in domain_set]\n",
    "print(\"****Total files****:\" + str(len(domain_results)) + \"\\n\")\n",
    "print(\"****Sample results****: \\n\")\n",
    "for samp in domain_results[:TEXT_OUTPUT_SIZE]:\n",
    "    if len(samp) > 4:\n",
    "        print(samp[:nb.max_characters] + \" \\n\")"
   ]
  },
  {
   "cell_type": "markdown",
   "metadata": {},
   "source": [
    "As with the previous section, you may want to save this file so that you have a text file of a particular domain.\n",
    "\n",
    "To do so, run the following cell and you will write the results to a file named `filtered-by-domain.txt` unless you change it below. Remember, you can note the specific domain(s) that you want to extract by changing the `TEXT_SELECT_DOMAINS` variable above."
   ]
  },
  {
   "cell_type": "code",
   "execution_count": 11,
   "metadata": {
    "collapsed": true
   },
   "outputs": [],
   "source": [
    "nb.write_output('./filtered-by-domain.txt', domain_results)"
   ]
  },
  {
   "cell_type": "markdown",
   "metadata": {},
   "source": [
    "## Overall Collection Characteristics\n",
    "\n",
    "Change the variables in the following cell to manipulate the analysis you'll be running to understand overall collection characteristics. In this case, they mostly affect the visualization that we generate. You may wish to add or remove words to `STOP_WORDS_USER`in the user configuration cell to remove words that may be overwhelming your analysis.\n"
   ]
  },
  {
   "cell_type": "code",
   "execution_count": 12,
   "metadata": {
    "collapsed": true
   },
   "outputs": [],
   "source": [
    "OVERALL_OUTPUT_SIZE = 20 # Size of output to show.\n",
    "OVERALL_BAR_WIDTH = 0.35 # The size of the bars in the histogram.\n",
    "OVERALL_Y_LABEL = \"Number of occurences.\" # The Y axis label.\n",
    "OVERALL_TITLE = 'Top words by count.' # The plot title.\n",
    "OVERALL_SHOW_TOKENS = 3 # The number of top words to show."
   ]
  },
  {
   "cell_type": "code",
   "execution_count": 13,
   "metadata": {
    "collapsed": false
   },
   "outputs": [
    {
     "data": {
      "image/png": "[encoded data removed]",
      "text/plain": [
       "<Figure size 720x288 with 1 Axes>"
      ]
     },
     "metadata": {},
     "output_type": "display_data"
    }
   ],
   "source": [
    "# Get a list of the top words in the collection (regardless of year).\n",
    "\n",
    "plt.rcParams['figure.figsize'] = TEXT_FIGURE_SIZE # Set the figure size for the graph.\n",
    "tokens = nb.get_top_tokens()[:OVERALL_OUTPUT_SIZE]\n",
    "vals = [x[1] for x in tokens if x[0] not in nb.stop_words] # Filter based on STOP_WORDS (above).\n",
    "labs = [x[0] for x in tokens if x[0] not in nb.stop_words]\n",
    "ind = np.arange(len(vals))    # The x locations for the groups.\n",
    "width = OVERALL_BAR_WIDTH       # The width of the bars: can also be len(x) sequence.\n",
    "p1 = plt.bar(ind, vals, width)\n",
    "plt.ylabel(OVERALL_Y_LABEL)\n",
    "plt.title(OVERALL_TITLE)\n",
    "plt.xticks(ind, labs, rotation='vertical')\n",
    "plt.show()"
   ]
  },
  {
   "cell_type": "code",
   "execution_count": 14,
   "metadata": {
    "collapsed": false
   },
   "outputs": [
    {
     "data": {
      "text/plain": [
       "[('2014',\n",
       "  [('North', 928),\n",
       "   ('bctf.ca', 871),\n",
       "   ('Liberals', 833),\n",
       "   ('that', 742),\n",
       "   ('with', 728),\n",
       "   ('Party', 713),\n",
       "   ('Liberal', 658),\n",
       "   ('Teachers', 633),\n",
       "   ('News', 579),\n",
       "   ('this', 539),\n",
       "   ('John', 468),\n",
       "   ('your', 455),\n",
       "   ('Close', 445),\n",
       "   ('Search', 445),\n",
       "   ('2013', 429),\n",
       "   ('from', 424),\n",
       "   ('Association', 397),\n",
       "   ('West', 393),\n",
       "   ('Follow', 389),\n",
       "   ('Team', 378),\n",
       "   ('Media', 376),\n",
       "   ('teachers', 362),\n",
       "   ('MLAs', 357),\n",
       "   ('BCTF', 354),\n",
       "   ('Vancouver', 352),\n",
       "   ('Like', 346),\n",
       "   ('also', 342),\n",
       "   ('Tweet', 341),\n",
       "   ('Home', 341),\n",
       "   ('bcliberals', 338)])]"
      ]
     },
     "execution_count": 14,
     "metadata": {},
     "output_type": "execute_result"
    }
   ],
   "source": [
    "# Get a list of the top tokens, separated by year.\n",
    "\n",
    "nb.get_top_tokens_by(nb.year)[0:OVERALL_OUTPUT_SIZE]"
   ]
  },
  {
   "cell_type": "code",
   "execution_count": 15,
   "metadata": {
    "collapsed": false
   },
   "outputs": [
    {
     "data": {
      "text/plain": [
       "[('facebook',\n",
       "  [('Facebook', 35),\n",
       "   ('Create', 16),\n",
       "   ('your', 14),\n",
       "   ('Page', 11),\n",
       "   ('Help', 11),\n",
       "   ('English', 10),\n",
       "   ('Terms', 9),\n",
       "   ('page', 9),\n",
       "   ('Sign', 9),\n",
       "   ('Cookies', 9),\n",
       "   ('Privacy', 9),\n",
       "   ('2014', 9),\n",
       "   ('Games', 8),\n",
       "   ('Developers', 8),\n",
       "   ('Badges', 8),\n",
       "   ('Pages', 8),\n",
       "   ('password', 8),\n",
       "   ('People', 8),\n",
       "   ('Careers', 8),\n",
       "   ('Forgot', 8),\n",
       "   ('Phone', 8),\n",
       "   ('Locations', 8),\n",
       "   ('About', 8),\n",
       "   ('logo', 8),\n",
       "   ('logged', 8),\n",
       "   ('Places', 8),\n",
       "   ('Keep', 8),\n",
       "   ('Email', 8),\n",
       "   ('Find', 8),\n",
       "   ('Password', 8)]),\n",
       " ('google',\n",
       "  [('your', 84),\n",
       "   ('news', 66),\n",
       "   ('News', 60),\n",
       "   ('Google', 55),\n",
       "   ('from', 48),\n",
       "   ('with', 39),\n",
       "   ('Gratis', 36),\n",
       "   ('that', 33),\n",
       "   ('stories', 32),\n",
       "   ('noticias', 31),\n",
       "   ('content', 24),\n",
       "   ('para', 23),\n",
       "   ('completa', 23),\n",
       "   ('2014', 23),\n",
       "   ('available', 23),\n",
       "   ('latest', 22),\n",
       "   ('Opinión', 21),\n",
       "   ('Android', 20),\n",
       "   ('other', 20),\n",
       "   ('Terms', 19),\n",
       "   ('Content', 18),\n",
       "   ('will', 18),\n",
       "   ('Products', 17),\n",
       "   ('read', 16),\n",
       "   ('including', 15),\n",
       "   ('live', 15),\n",
       "   ('more', 15),\n",
       "   ('have', 14),\n",
       "   ('Facebook', 14),\n",
       "   ('breaking', 14)]),\n",
       " ('staffroomconfidential',\n",
       "  [('that', 71),\n",
       "   ('this', 47),\n",
       "   ('school', 44),\n",
       "   ('September', 35),\n",
       "   ('have', 33),\n",
       "   ('June', 32),\n",
       "   ('education', 30),\n",
       "   ('their', 29),\n",
       "   ('November', 29),\n",
       "   ('August', 28),\n",
       "   ('about', 28),\n",
       "   ('Victoria', 28),\n",
       "   ('with', 28),\n",
       "   ('teachers', 28),\n",
       "   ('they', 27),\n",
       "   ('time', 27),\n",
       "   ('Education', 25),\n",
       "   ('2012', 24),\n",
       "   ('School', 23),\n",
       "   ('high', 23),\n",
       "   ('vote', 23),\n",
       "   ('students', 22),\n",
       "   ('schools', 22),\n",
       "   ('Atom', 21),\n",
       "   ('January', 21),\n",
       "   ('March', 21),\n",
       "   ('April', 21),\n",
       "   ('December', 21),\n",
       "   ('February', 21),\n",
       "   ('Confidential', 21)]),\n",
       " ('reddit',\n",
       "  [('loading', 51),\n",
       "   ('submitted', 51),\n",
       "   ('sharecancel', 51),\n",
       "   ('comments', 43),\n",
       "   ('hours', 21),\n",
       "   ('self.Diablo', 19),\n",
       "   ('days', 19),\n",
       "   ('self.madmen', 16),\n",
       "   ('this', 16),\n",
       "   ('your', 13),\n",
       "   ('reddit', 13),\n",
       "   ('login', 12),\n",
       "   ('English', 12),\n",
       "   ('password', 12),\n",
       "   ('search', 12),\n",
       "   ('subreddit', 10),\n",
       "   ('username', 10),\n",
       "   ('text', 10),\n",
       "   ('about', 8),\n",
       "   ('self', 8),\n",
       "   ('account', 8),\n",
       "   ('comment', 8),\n",
       "   ('find', 8),\n",
       "   ('more', 8),\n",
       "   ('that', 7),\n",
       "   ('submissions', 6),\n",
       "   ('português', 6),\n",
       "   ('remember', 6),\n",
       "   ('Diablo', 6),\n",
       "   ('favorite', 6)]),\n",
       " ('bcliberals',\n",
       "  [('North', 886),\n",
       "   ('Liberals', 827),\n",
       "   ('Party', 711),\n",
       "   ('Liberal', 654),\n",
       "   ('John', 448),\n",
       "   ('News', 428),\n",
       "   ('Team', 372),\n",
       "   ('MLAs', 346),\n",
       "   ('bcliberals', 338),\n",
       "   ('West', 336),\n",
       "   ('2013', 334),\n",
       "   ('Laurie', 327),\n",
       "   ('Mike', 325),\n",
       "   ('Follow', 322),\n",
       "   ('Search', 321),\n",
       "   ('Like', 321),\n",
       "   ('Media', 320),\n",
       "   ('Linda', 318),\n",
       "   ('Richmond', 272),\n",
       "   ('Premier', 267),\n",
       "   ('Columbia', 258),\n",
       "   ('British', 258),\n",
       "   ('Andrew', 256),\n",
       "   ('also', 250),\n",
       "   ('Jane', 249),\n",
       "   ('Vancouver', 229),\n",
       "   ('with', 228),\n",
       "   ('Today', 227),\n",
       "   ('last', 226),\n",
       "   ('Action', 224)]),\n",
       " ('familiesfundingteachers',\n",
       "  [('29-Aug-2014', 155),\n",
       "   ('12:48', 93),\n",
       "   ('12:50', 37),\n",
       "   ('12:49', 25),\n",
       "   ('Index', 4),\n",
       "   ('3.8K', 4),\n",
       "   ('1.0K', 3),\n",
       "   ('Size', 2),\n",
       "   ('Debian', 2),\n",
       "   ('3.2K', 2),\n",
       "   ('Port', 2),\n",
       "   ('/wp-includes/js/jquery/ui', 2),\n",
       "   ('2.7K', 2),\n",
       "   ('Apache/2.2.16', 2),\n",
       "   ('/wp-includes', 2),\n",
       "   ('www.familiesfundingteachers.ca', 2),\n",
       "   ('Parent', 2),\n",
       "   ('6.8K', 2),\n",
       "   ('4.2K', 2),\n",
       "   ('2.5K', 2),\n",
       "   ('5.7K', 2),\n",
       "   ('Server', 2),\n",
       "   ('Description', 2),\n",
       "   ('Last', 2),\n",
       "   ('2.8K', 2),\n",
       "   ('modified', 2),\n",
       "   ('6.7K', 2),\n",
       "   ('Name', 2),\n",
       "   ('Directory', 2),\n",
       "   ('class-wp-image-editor.php', 1)]),\n",
       " ('twitter',\n",
       "  [('Close', 421),\n",
       "   ('Tweet', 330),\n",
       "   ('Twitter', 275),\n",
       "   ('this', 260),\n",
       "   ('account', 246),\n",
       "   ('Retweet', 242),\n",
       "   ('location', 211),\n",
       "   ('Embed', 210),\n",
       "   ('More', 186),\n",
       "   ('Sign', 180),\n",
       "   ('Retweeted', 180),\n",
       "   ('Verified', 180),\n",
       "   ('Reply', 180),\n",
       "   ('Favorite', 168),\n",
       "   ('Favorited', 161),\n",
       "   ('Cancel', 151),\n",
       "   ('your', 135),\n",
       "   ('Collapse', 128),\n",
       "   ('Expand', 128),\n",
       "   ('list', 121),\n",
       "   ('more', 108),\n",
       "   ('Vodafone', 102),\n",
       "   ('40404', 102),\n",
       "   ('media', 93),\n",
       "   ('Learn', 89),\n",
       "   ('bctf', 81),\n",
       "   ('http', 80),\n",
       "   ('about', 69),\n",
       "   ('Bahasa', 68),\n",
       "   ('Have', 65)]),\n",
       " ('patch',\n",
       "  [('Patch', 28),\n",
       "   ('2014', 11),\n",
       "   ('October', 10),\n",
       "   ('Updated', 10),\n",
       "   ('Staff', 9),\n",
       "   ('Fire', 4),\n",
       "   ('Police', 4),\n",
       "   ('About', 4),\n",
       "   ('Corners', 3),\n",
       "   ('95th', 3),\n",
       "   ('Lawn', 3),\n",
       "   ('Illinois', 3),\n",
       "   ('Fong', 3),\n",
       "   ('your', 3),\n",
       "   ('Street', 3),\n",
       "   ('Find', 3),\n",
       "   ('Walsh', 3),\n",
       "   ('Colleen', 3),\n",
       "   ('Schools', 3),\n",
       "   ('Peachtree', 3),\n",
       "   ('Virginia', 3),\n",
       "   ('Favorites', 2),\n",
       "   ('Word', 2),\n",
       "   ('Rescue', 2),\n",
       "   ('Unite', 2),\n",
       "   ('accident', 2),\n",
       "   ('Bolingbrook', 2),\n",
       "   ('Newport', 2),\n",
       "   ('that', 2),\n",
       "   ('Banned', 2)]),\n",
       " ('bctf',\n",
       "  [('bctf.ca', 870),\n",
       "   ('Teachers', 602),\n",
       "   ('that', 460),\n",
       "   ('Association', 347),\n",
       "   ('with', 345),\n",
       "   ('BCTF', 308),\n",
       "   ('teachers', 306),\n",
       "   ('students', 282),\n",
       "   ('have', 190),\n",
       "   ('Teacher', 187),\n",
       "   ('from', 176),\n",
       "   ('this', 168),\n",
       "   ('school', 164),\n",
       "   ('their', 160),\n",
       "   ('were', 147),\n",
       "   ('more', 146),\n",
       "   ('support', 142),\n",
       "   ('year', 130),\n",
       "   ('District', 124),\n",
       "   ('they', 121),\n",
       "   ('about', 107),\n",
       "   ('needs', 106),\n",
       "   ('education', 106),\n",
       "   ('Education', 101),\n",
       "   ('teacher', 101),\n",
       "   ('schools', 95),\n",
       "   ('Home', 92),\n",
       "   ('Union', 91),\n",
       "   ('your', 91),\n",
       "   ('Vancouver', 84)]),\n",
       " ('huffingtonpost',\n",
       "  [('Alberta', 73),\n",
       "   ('More', 40),\n",
       "   ('Images', 39),\n",
       "   ('Getty', 37),\n",
       "   ('HuffPost', 36),\n",
       "   ('Politics', 35),\n",
       "   ('Canada', 32),\n",
       "   ('Business', 31),\n",
       "   ('Style', 30),\n",
       "   ('Voices', 30),\n",
       "   ('that', 29),\n",
       "   ('Comments', 29),\n",
       "   ('alcohol', 26),\n",
       "   ('Cardston', 26),\n",
       "   ('Post', 25),\n",
       "   ('Calgary', 23),\n",
       "   ('News', 23),\n",
       "   ('Afghanistan', 22),\n",
       "   ('Like', 22),\n",
       "   ('like', 22),\n",
       "   ('Huffington', 21),\n",
       "   ('Living', 20),\n",
       "   ('also', 20),\n",
       "   ('Women', 18),\n",
       "   ('About', 18),\n",
       "   ('this', 17),\n",
       "   ('Might', 17),\n",
       "   ('2014', 17),\n",
       "   ('might', 16),\n",
       "   ('This', 16)]),\n",
       " ('blogger',\n",
       "  [('Moved', 6),\n",
       "   ('Temporarily', 4),\n",
       "   ('Blogger', 4),\n",
       "   ('Help', 3),\n",
       "   ('moved', 3),\n",
       "   ('here', 3),\n",
       "   ('document', 3),\n",
       "   ('Profile', 2),\n",
       "   ('Kathleen', 2),\n",
       "   ('Forum', 2),\n",
       "   ('Service', 1),\n",
       "   ('2012', 1),\n",
       "   ('Terms', 1),\n",
       "   ('Developer', 1),\n",
       "   ('November', 1),\n",
       "   ('Buzz', 1),\n",
       "   ('Tutorials', 1),\n",
       "   ('Developers', 1),\n",
       "   ('About', 1),\n",
       "   ('2014', 1),\n",
       "   ('Video', 1),\n",
       "   ('Center', 1),\n",
       "   ('User', 1),\n",
       "   ('1999', 1),\n",
       "   ('Content', 1),\n",
       "   ('Privacy', 1),\n",
       "   ('views', 1),\n",
       "   ('since', 1),\n",
       "   ('+Blogger', 1),\n",
       "   ('Google', 1)]),\n",
       " ('radioreddit',\n",
       "  [('reddit', 4),\n",
       "   ('music', 3),\n",
       "   ('radio', 3),\n",
       "   ('Sponsor', 2),\n",
       "   ('Music', 2),\n",
       "   ('Artist', 2),\n",
       "   ('live', 2),\n",
       "   ('Navigation', 2),\n",
       "   ('upload', 2),\n",
       "   ('Radio', 2),\n",
       "   ('Jump', 1),\n",
       "   ('Exoware', 1),\n",
       "   ('Sticker', 1),\n",
       "   ('Best', 1),\n",
       "   ('charts', 1),\n",
       "   ('Browse', 1),\n",
       "   ('tools', 1),\n",
       "   ('brothers', 1),\n",
       "   ('control', 1),\n",
       "   ('Songs', 1),\n",
       "   ('radioreddit', 1),\n",
       "   ('Room', 1),\n",
       "   ('about', 1),\n",
       "   ('redditors', 1),\n",
       "   ('vote', 1),\n",
       "   ('Upload', 1),\n",
       "   ('streams', 1),\n",
       "   ('listen', 1),\n",
       "   ('List', 1),\n",
       "   ('discover', 1)]),\n",
       " ('cbc',\n",
       "  [('Menu', 16),\n",
       "   ('page', 10),\n",
       "   ('Radio', 8),\n",
       "   ('Sports', 6),\n",
       "   ('Kids', 6),\n",
       "   ('Program', 6),\n",
       "   ('find', 6),\n",
       "   ('site', 6),\n",
       "   ('Sales', 6),\n",
       "   ('News', 6),\n",
       "   ('Music', 4),\n",
       "   ('Listen', 4),\n",
       "   ('Digital', 4),\n",
       "   ('Links', 4),\n",
       "   ('CBC.ca', 4),\n",
       "   ('Skip', 4),\n",
       "   ('Sorry', 4),\n",
       "   ('will', 4),\n",
       "   ('Global', 4),\n",
       "   ('Member', 4),\n",
       "   ('Production', 4),\n",
       "   ('Mobile', 4),\n",
       "   ('Watch', 4),\n",
       "   ('2013', 2),\n",
       "   ('Enter', 2),\n",
       "   ('Consumer', 2),\n",
       "   ('Preschool', 2),\n",
       "   ('Audio', 2),\n",
       "   ('what', 2),\n",
       "   ('Footer', 2)]),\n",
       " ('youtube',\n",
       "  [('Loading', 14),\n",
       "   ('SubscribeSubscribedUnsubscribe', 14),\n",
       "   ('Queue', 10),\n",
       "   ('Watch', 10),\n",
       "   ('Sign', 8),\n",
       "   ('YouTube', 8),\n",
       "   ('About', 6),\n",
       "   ('channels', 6),\n",
       "   ('Channels', 4),\n",
       "   ('Working', 4),\n",
       "   ('Safety', 4),\n",
       "   ('Discussion', 4),\n",
       "   ('Playlists', 4),\n",
       "   ('Popular', 4),\n",
       "   ('Videos', 4),\n",
       "   ('QueueTV', 2),\n",
       "   ('Movies', 2),\n",
       "   ('Best', 2),\n",
       "   ('News', 2),\n",
       "   ('RihannaVEVO', 2),\n",
       "   ('Shows', 2),\n",
       "   ('Home', 2),\n",
       "   ('Advertising', 2),\n",
       "   ('preferences', 2),\n",
       "   ('Blogs', 2),\n",
       "   ('Partners', 2),\n",
       "   ('Spotlight', 2),\n",
       "   ('Press', 2),\n",
       "   ('Language', 2),\n",
       "   ('Upload', 2)]),\n",
       " ('thetyee',\n",
       "  [('Tyee', 43),\n",
       "   ('curriculum', 30),\n",
       "   ('comments', 22),\n",
       "   ('2014', 21),\n",
       "   ('said', 18),\n",
       "   ('environmental', 17),\n",
       "   ('News', 17),\n",
       "   ('that', 16),\n",
       "   ('with', 15),\n",
       "   ('education', 14),\n",
       "   ('Ross', 14),\n",
       "   ('Politics', 13),\n",
       "   ('from', 12),\n",
       "   ('What', 12),\n",
       "   ('email', 12),\n",
       "   ('about', 11),\n",
       "   ('ministry', 11),\n",
       "   ('could', 10),\n",
       "   ('this', 10),\n",
       "   ('more', 10),\n",
       "   ('Harper', 9),\n",
       "   ('every', 9),\n",
       "   ('National', 9),\n",
       "   ('Canada', 9),\n",
       "   ('Your', 8),\n",
       "   ('Must', 8),\n",
       "   ('Postmedia', 8),\n",
       "   ('government', 8),\n",
       "   ('Clark', 8),\n",
       "   ('what', 7)]),\n",
       " ('betterschoolsbc',\n",
       "  [('Norton', 17),\n",
       "   ('that', 8),\n",
       "   ('Security', 8),\n",
       "   ('Internet', 8),\n",
       "   ('Privacy', 6),\n",
       "   ('JavaScript', 5),\n",
       "   ('Personal', 4),\n",
       "   ('Firewall', 4),\n",
       "   ('have', 4),\n",
       "   ('2004', 4),\n",
       "   ('pages', 4),\n",
       "   ('Browser', 3),\n",
       "   ('including', 3),\n",
       "   ('security', 3),\n",
       "   ('Note', 3),\n",
       "   ('using', 3),\n",
       "   ('more', 3),\n",
       "   ('Products', 3),\n",
       "   ('Control', 3),\n",
       "   ('consider', 2),\n",
       "   ('Important', 2),\n",
       "   ('software', 2),\n",
       "   ('rule', 2),\n",
       "   ('following', 2),\n",
       "   ('want', 2),\n",
       "   ('loading', 2),\n",
       "   ('Users', 2),\n",
       "   ('page', 2),\n",
       "   ('from', 2),\n",
       "   ('scripts', 2)]),\n",
       " ('huff', [('here', 1), ('moved', 1), ('bit.ly', 1)])]"
      ]
     },
     "execution_count": 15,
     "metadata": {},
     "output_type": "execute_result"
    }
   ],
   "source": [
    "# Get a list of top tokens, separated by domain.\n",
    "\n",
    "nb.get_top_tokens_by(nb.domain)[0:OVERALL_OUTPUT_SIZE]"
   ]
  },
  {
   "cell_type": "code",
   "execution_count": 16,
   "metadata": {
    "collapsed": true
   },
   "outputs": [],
   "source": [
    "# Add or remove words to see their location in the output.\n",
    "\n",
    "DISPERSION_PLOT_WORDS = ['he', 'she'] "
   ]
  },
  {
   "cell_type": "code",
   "execution_count": 17,
   "metadata": {
    "collapsed": false
   },
   "outputs": [
    {
     "data": {
      "image/png": "[encoded data removed]",
      "text/plain": [
       "<Figure size 720x288 with 1 Axes>"
      ]
     },
     "metadata": {},
     "output_type": "display_data"
    }
   ],
   "source": [
    "# Create a dispersion plot, showing where the list of words appear in the text.\n",
    "nb.minimum_word_length = 1\n",
    "text = nb.get_text_tokens() # Need to have one to include words with fewer than 3 letters.\n",
    "dp(text, DISPERSION_PLOT_WORDS) # Uses the nltk dispersion plot library (dp)."
   ]
  },
  {
   "cell_type": "code",
   "execution_count": 18,
   "metadata": {
    "collapsed": true
   },
   "outputs": [],
   "source": [
    "SENTIMENT_Y_LABEL = \"Scores.\"\n",
    "SENTIMENT_TITLE = 'Scores by domain and sentiment.'"
   ]
  },
  {
   "cell_type": "code",
   "execution_count": 19,
   "metadata": {
    "collapsed": false
   },
   "outputs": [
    {
     "data": {
      "image/png": "[encoded data removed]",
      "text/plain": [
       "<Figure size 720x288 with 1 Axes>"
      ]
     },
     "metadata": {},
     "output_type": "display_data"
    }
   ],
   "source": [
    "# Collect sentiment scores by domain and visualize them.\n",
    "\n",
    "sent = nb.sentiment_scores()\n",
    "N = len(sent)\n",
    "neg = [x[1][1] for x in sent]\n",
    "pos = [x[2][1] for x in sent]\n",
    "neu = [x[3][1] for x in sent]\n",
    "labs = [x[0] for x in sent]\n",
    "ind = np.arange(N)    # The x locations for the groups.\n",
    "width = OVERALL_BAR_WIDTH\n",
    "p1 = plt.bar(ind, neg, width)\n",
    "p2 = plt.bar(ind, neu, width,\n",
    "             bottom=neg)\n",
    "p3 = plt.bar(ind, pos, width, bottom=neu)\n",
    "plt.ylabel(SENTIMENT_Y_LABEL)\n",
    "plt.title(SENTIMENT_TITLE)\n",
    "plt.xticks(ind, labs, rotation='vertical')\n",
    "plt.legend((p1[0], p2[0], p3[0]), ('Negative', 'Neutral', 'Positive'))\n",
    "plt.show()"
   ]
  },
  {
   "cell_type": "code",
   "execution_count": 20,
   "metadata": {
    "collapsed": true
   },
   "outputs": [],
   "source": [
    "SENTIMENT_Y_LABEL2 = \"Scores.\"\n",
    "SENTIMENT_TITLE2 = 'Scores by year and sentiment.'"
   ]
  },
  {
   "cell_type": "code",
   "execution_count": 21,
   "metadata": {
    "collapsed": false
   },
   "outputs": [
    {
     "data": {
      "image/png": "[encoded data removed]",
      "text/plain": [
       "<Figure size 720x288 with 1 Axes>"
      ]
     },
     "metadata": {},
     "output_type": "display_data"
    }
   ],
   "source": [
    "# Collect sentiment scores by year and visualize them.\n",
    "\n",
    "sent = nb.sentiment_scores(\"year\")\n",
    "N = len(sent)\n",
    "neg = [x[1][1] for x in sent]\n",
    "pos = [x[2][1] for x in sent]\n",
    "neu = [x[3][1] for x in sent]\n",
    "labs = sorted([x[0] for x in sent])\n",
    "ind = np.arange(N)\n",
    "width = OVERALL_BAR_WIDTH\n",
    "p1 = plt.bar(ind, neg, width)\n",
    "p2 = plt.bar(ind, neu, width,\n",
    "             bottom=neg)\n",
    "p3 = plt.bar(ind, pos, width, bottom=neu)\n",
    "plt.ylabel(SENTIMENT_Y_LABEL2)\n",
    "plt.title(SENTIMENT_TITLE2)\n",
    "plt.xticks(ind, labs, rotation='vertical')\n",
    "plt.legend((p1[0], p2[0], p3[0]), ('Negative', 'Neutral', 'Positive'))\n",
    "plt.show()"
   ]
  },
  {
   "cell_type": "markdown",
   "metadata": {},
   "source": [
    "# Bibliography\n",
    "- Archives Unleashed Project. (2018). Archives Unleashed Toolkit (Version 0.17.0). Apache License, Version 2.0.\n",
    "- Aric A. Hagberg, Daniel A. Schult and Pieter J. Swart, “Exploring network structure, dynamics, and function using NetworkX”, in Proceedings of the 7th Python in Science Conference (SciPy2008), Gäel Varoquaux, Travis Vaught, and Jarrod Millman (Eds), (Pasadena, CA USA), pp. 11–15, Aug 2008.\n",
    "- Bird, Steven, Edward Loper and Ewan Klein (2009), *Natural Language Processing with Python*. O’Reilly Media Inc.\n",
    "- University of Victoria Libraries, B.C. Teachers' Labour Dispute (2014), Archive-It Collection 4867, https://archive-it.org/collections/4867."
   ]
  }
 ],
 "metadata": {
  "anaconda-cloud": {},
  "kernelspec": {
   "display_name": "Python [default]",
   "language": "python",
   "name": "python3"
  },
  "language_info": {
   "codemirror_mode": {
    "name": "ipython",
    "version": 3
   },
   "file_extension": ".py",
   "mimetype": "text/x-python",
   "name": "python",
   "nbconvert_exporter": "python",
   "pygments_lexer": "ipython3",
   "version": "3.5.2"
  }
 },
 "nbformat": 4,
 "nbformat_minor": 2
}
